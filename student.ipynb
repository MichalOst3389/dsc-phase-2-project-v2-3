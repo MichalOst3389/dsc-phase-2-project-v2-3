{
 "cells": [
  {
   "cell_type": "markdown",
   "metadata": {},
   "source": [
    "## Final Project Submission\n",
    "\n",
    "Please fill out:\n",
    "* Student name: \n",
    "* Student pace: self paced / part time / full time\n",
    "* Scheduled project review date/time: \n",
    "* Instructor name: \n",
    "* Blog post URL:\n"
   ]
  },
  {
   "cell_type": "markdown",
   "metadata": {},
   "source": [
    "In this jupyter notebook we will be looking at data from the King's County House Sales dataset.  The goal of this project is to make recommendations to a real estate business as to which houses will create a larger profit for them.  In doing so I will be looking at 3 main factors.  The first factor I will explore will be location.  The location of a house for sale could possibly change the price of a house due to things like nice views, good schools, entertainment close by, and other various factors. While the dataset does not include these specifics, if houses on one area tend to be higher in price than another we can assume that this area is more desirable.  The second factor I will be looking at will be the size of a house.  A larger house could effect the overall price of the home, and I will also be looking to see if at any point a house is \"too big\" to see if this effects price aswell.  For the third factor, I will be looking to see if renovations increase or decrease the overall price of a house. If any of these 3 factors are more influential to the overall sale price of a house, that will be noted aswell.\n",
    "\n",
    "1.) Location of house based on latitude and longitude vs price\n",
    "2.) square footage, bedrooms, and bathrooms vs price\n",
    "3.) Are renovations worth doing in terms of sale price? "
   ]
  },
  {
   "cell_type": "code",
   "execution_count": 208,
   "metadata": {},
   "outputs": [],
   "source": [
    "import pandas as pd\n",
    "import numpy as np\n",
    "import matplotlib.pyplot as plt\n",
    "%matplotlib inline\n",
    "import seaborn as sns\n",
    "import matplotlib.patches as mpatches\n",
    "from sklearn import linear_model\n",
    "import statsmodels.api as sm\n",
    "import matplotlib.ticker as ticker\n",
    "from mpl_toolkits.mplot3d import Axes3D\n",
    "from sklearn.linear_model import LinearRegression\n",
    "import statsmodels.formula.api as smf"
   ]
  },
  {
   "cell_type": "markdown",
   "metadata": {},
   "source": [
    "### Importing data"
   ]
  },
  {
   "cell_type": "code",
   "execution_count": 209,
   "metadata": {},
   "outputs": [],
   "source": [
    "#import csv file Kings County House Sales dataset\n",
    "kc_house_data = pd.read_csv(r'data\\kc_house_data.csv')"
   ]
  },
  {
   "cell_type": "code",
   "execution_count": 210,
   "metadata": {},
   "outputs": [],
   "source": [
    "#removing alphabetical characters from column \"grade\"\n",
    "kc_house_data['grade'] = kc_house_data['grade'].str.replace('[a,A,b,B,c,C,d,D,e,E,f,F,g,G,h,H,i,I,j,J,k,K,l,L,m,M,n,N,o,O,p,P,q,Q,r,R,s,S,t,T,u,U,v,V,w,W,x,X,y,Y,z,Z]','')"
   ]
  },
  {
   "cell_type": "code",
   "execution_count": 211,
   "metadata": {},
   "outputs": [],
   "source": [
    "#changing datatype of column \"grade\"\n",
    "kc_house_data['grade'] = kc_house_data['grade'].astype(int)"
   ]
  },
  {
   "cell_type": "code",
   "execution_count": 212,
   "metadata": {
    "scrolled": true
   },
   "outputs": [
    {
     "name": "stdout",
     "output_type": "stream",
     "text": [
      "<class 'pandas.core.frame.DataFrame'>\n",
      "RangeIndex: 21597 entries, 0 to 21596\n",
      "Data columns (total 21 columns):\n",
      " #   Column         Non-Null Count  Dtype  \n",
      "---  ------         --------------  -----  \n",
      " 0   id             21597 non-null  int64  \n",
      " 1   date           21597 non-null  object \n",
      " 2   price          21597 non-null  float64\n",
      " 3   bedrooms       21597 non-null  int64  \n",
      " 4   bathrooms      21597 non-null  float64\n",
      " 5   sqft_living    21597 non-null  int64  \n",
      " 6   sqft_lot       21597 non-null  int64  \n",
      " 7   floors         21597 non-null  float64\n",
      " 8   waterfront     19221 non-null  object \n",
      " 9   view           21534 non-null  object \n",
      " 10  condition      21597 non-null  object \n",
      " 11  grade          21597 non-null  int32  \n",
      " 12  sqft_above     21597 non-null  int64  \n",
      " 13  sqft_basement  21597 non-null  object \n",
      " 14  yr_built       21597 non-null  int64  \n",
      " 15  yr_renovated   17755 non-null  float64\n",
      " 16  zipcode        21597 non-null  int64  \n",
      " 17  lat            21597 non-null  float64\n",
      " 18  long           21597 non-null  float64\n",
      " 19  sqft_living15  21597 non-null  int64  \n",
      " 20  sqft_lot15     21597 non-null  int64  \n",
      "dtypes: float64(6), int32(1), int64(9), object(5)\n",
      "memory usage: 3.4+ MB\n"
     ]
    }
   ],
   "source": [
    "#checking datatypes of columns\n",
    "kc_house_data.info()"
   ]
  },
  {
   "cell_type": "markdown",
   "metadata": {},
   "source": [
    "### Clean up and removal of unwanted columns"
   ]
  },
  {
   "cell_type": "markdown",
   "metadata": {},
   "source": [
    "## 'view' clean up"
   ]
  },
  {
   "cell_type": "code",
   "execution_count": 213,
   "metadata": {},
   "outputs": [],
   "source": [
    "#removing 'NONE' value and replacing it with 0 for false in the 'view' column\n",
    "kc_house_data['view'].replace('NONE', 0, inplace=True)\n",
    "kc_house_data['view'].replace('NaN', 0, inplace=True)\n",
    "kc_house_data['view'].replace('YES', 1, inplace=True)\n",
    "kc_house_data['view'].replace('AVERAGE', 1, inplace=True)\n",
    "kc_house_data['view'].replace('FAIR', 2, inplace=True)\n",
    "kc_house_data['view'].replace('GOOD', 3, inplace=True)\n",
    "kc_house_data['view'].replace('EXCELLENT', 4, inplace=True)\n",
    "#replacing nan values with 0\n",
    "kc_house_data['view'] = kc_house_data['view'].fillna(0)\n",
    "#change view datatype\n",
    "#kc_house_data['view'].astype(int)"
   ]
  },
  {
   "cell_type": "code",
   "execution_count": 214,
   "metadata": {},
   "outputs": [
    {
     "data": {
      "text/plain": [
       "array([0., 3., 4., 1., 2.])"
      ]
     },
     "execution_count": 214,
     "metadata": {},
     "output_type": "execute_result"
    }
   ],
   "source": [
    "#confirming all values are numerical in column view\n",
    "kc_house_data.view.unique()"
   ]
  },
  {
   "cell_type": "markdown",
   "metadata": {},
   "source": [
    "## 'waterfront' clean up"
   ]
  },
  {
   "cell_type": "code",
   "execution_count": 215,
   "metadata": {},
   "outputs": [
    {
     "data": {
      "text/plain": [
       "array([nan, 'NO', 'YES'], dtype=object)"
      ]
     },
     "execution_count": 215,
     "metadata": {},
     "output_type": "execute_result"
    }
   ],
   "source": [
    "#checking for unique values in the waterfront column.\n",
    "kc_house_data.waterfront.unique()"
   ]
  },
  {
   "cell_type": "code",
   "execution_count": 216,
   "metadata": {},
   "outputs": [],
   "source": [
    "# replacing all nan values with 0\n",
    "kc_house_data['waterfront'] = kc_house_data['waterfront'].fillna(0)\n",
    "#replacing all 'NO' values with 0\n",
    "kc_house_data['waterfront'].replace('NO', 0, inplace=True)\n",
    "#replacing all 'YES' values with 1\n",
    "kc_house_data['waterfront'].replace('YES', 1, inplace=True)"
   ]
  },
  {
   "cell_type": "code",
   "execution_count": 217,
   "metadata": {},
   "outputs": [
    {
     "data": {
      "text/plain": [
       "array([0, 1], dtype=int64)"
      ]
     },
     "execution_count": 217,
     "metadata": {},
     "output_type": "execute_result"
    }
   ],
   "source": [
    "#confirming change from dtype str to int\n",
    "kc_house_data.waterfront.unique()"
   ]
  },
  {
   "cell_type": "code",
   "execution_count": 218,
   "metadata": {},
   "outputs": [
    {
     "name": "stdout",
     "output_type": "stream",
     "text": [
      "<class 'pandas.core.frame.DataFrame'>\n",
      "RangeIndex: 21597 entries, 0 to 21596\n",
      "Data columns (total 21 columns):\n",
      " #   Column         Non-Null Count  Dtype  \n",
      "---  ------         --------------  -----  \n",
      " 0   id             21597 non-null  int64  \n",
      " 1   date           21597 non-null  object \n",
      " 2   price          21597 non-null  float64\n",
      " 3   bedrooms       21597 non-null  int64  \n",
      " 4   bathrooms      21597 non-null  float64\n",
      " 5   sqft_living    21597 non-null  int64  \n",
      " 6   sqft_lot       21597 non-null  int64  \n",
      " 7   floors         21597 non-null  float64\n",
      " 8   waterfront     21597 non-null  int64  \n",
      " 9   view           21597 non-null  float64\n",
      " 10  condition      21597 non-null  object \n",
      " 11  grade          21597 non-null  int32  \n",
      " 12  sqft_above     21597 non-null  int64  \n",
      " 13  sqft_basement  21597 non-null  object \n",
      " 14  yr_built       21597 non-null  int64  \n",
      " 15  yr_renovated   17755 non-null  float64\n",
      " 16  zipcode        21597 non-null  int64  \n",
      " 17  lat            21597 non-null  float64\n",
      " 18  long           21597 non-null  float64\n",
      " 19  sqft_living15  21597 non-null  int64  \n",
      " 20  sqft_lot15     21597 non-null  int64  \n",
      "dtypes: float64(7), int32(1), int64(10), object(3)\n",
      "memory usage: 3.4+ MB\n"
     ]
    }
   ],
   "source": [
    "#checking all datatypes, need to make them all numerical\n",
    "kc_house_data.info()"
   ]
  },
  {
   "cell_type": "markdown",
   "metadata": {},
   "source": [
    "### exploratory analysis for price based on zipcode"
   ]
  },
  {
   "cell_type": "markdown",
   "metadata": {},
   "source": [
    "viewing values that are empty in the column of price"
   ]
  },
  {
   "cell_type": "code",
   "execution_count": 219,
   "metadata": {},
   "outputs": [
    {
     "data": {
      "text/html": [
       "<div>\n",
       "<style scoped>\n",
       "    .dataframe tbody tr th:only-of-type {\n",
       "        vertical-align: middle;\n",
       "    }\n",
       "\n",
       "    .dataframe tbody tr th {\n",
       "        vertical-align: top;\n",
       "    }\n",
       "\n",
       "    .dataframe thead th {\n",
       "        text-align: right;\n",
       "    }\n",
       "</style>\n",
       "<table border=\"1\" class=\"dataframe\">\n",
       "  <thead>\n",
       "    <tr style=\"text-align: right;\">\n",
       "      <th></th>\n",
       "      <th>id</th>\n",
       "      <th>date</th>\n",
       "      <th>price</th>\n",
       "      <th>bedrooms</th>\n",
       "      <th>bathrooms</th>\n",
       "      <th>sqft_living</th>\n",
       "      <th>sqft_lot</th>\n",
       "      <th>floors</th>\n",
       "      <th>waterfront</th>\n",
       "      <th>view</th>\n",
       "      <th>...</th>\n",
       "      <th>grade</th>\n",
       "      <th>sqft_above</th>\n",
       "      <th>sqft_basement</th>\n",
       "      <th>yr_built</th>\n",
       "      <th>yr_renovated</th>\n",
       "      <th>zipcode</th>\n",
       "      <th>lat</th>\n",
       "      <th>long</th>\n",
       "      <th>sqft_living15</th>\n",
       "      <th>sqft_lot15</th>\n",
       "    </tr>\n",
       "  </thead>\n",
       "  <tbody>\n",
       "  </tbody>\n",
       "</table>\n",
       "<p>0 rows × 21 columns</p>\n",
       "</div>"
      ],
      "text/plain": [
       "Empty DataFrame\n",
       "Columns: [id, date, price, bedrooms, bathrooms, sqft_living, sqft_lot, floors, waterfront, view, condition, grade, sqft_above, sqft_basement, yr_built, yr_renovated, zipcode, lat, long, sqft_living15, sqft_lot15]\n",
       "Index: []\n",
       "\n",
       "[0 rows x 21 columns]"
      ]
     },
     "execution_count": 219,
     "metadata": {},
     "output_type": "execute_result"
    }
   ],
   "source": [
    "# Checking for empty values of price\n",
    "kc_house_data[kc_house_data['price'] == 'NaN']"
   ]
  },
  {
   "cell_type": "markdown",
   "metadata": {},
   "source": [
    "No values are 'NaN' in the price column"
   ]
  },
  {
   "cell_type": "code",
   "execution_count": 220,
   "metadata": {},
   "outputs": [
    {
     "data": {
      "text/html": [
       "<div>\n",
       "<style scoped>\n",
       "    .dataframe tbody tr th:only-of-type {\n",
       "        vertical-align: middle;\n",
       "    }\n",
       "\n",
       "    .dataframe tbody tr th {\n",
       "        vertical-align: top;\n",
       "    }\n",
       "\n",
       "    .dataframe thead th {\n",
       "        text-align: right;\n",
       "    }\n",
       "</style>\n",
       "<table border=\"1\" class=\"dataframe\">\n",
       "  <thead>\n",
       "    <tr style=\"text-align: right;\">\n",
       "      <th></th>\n",
       "      <th>id</th>\n",
       "      <th>date</th>\n",
       "      <th>price</th>\n",
       "      <th>bedrooms</th>\n",
       "      <th>bathrooms</th>\n",
       "      <th>sqft_living</th>\n",
       "      <th>sqft_lot</th>\n",
       "      <th>floors</th>\n",
       "      <th>waterfront</th>\n",
       "      <th>view</th>\n",
       "      <th>...</th>\n",
       "      <th>grade</th>\n",
       "      <th>sqft_above</th>\n",
       "      <th>sqft_basement</th>\n",
       "      <th>yr_built</th>\n",
       "      <th>yr_renovated</th>\n",
       "      <th>zipcode</th>\n",
       "      <th>lat</th>\n",
       "      <th>long</th>\n",
       "      <th>sqft_living15</th>\n",
       "      <th>sqft_lot15</th>\n",
       "    </tr>\n",
       "  </thead>\n",
       "  <tbody>\n",
       "  </tbody>\n",
       "</table>\n",
       "<p>0 rows × 21 columns</p>\n",
       "</div>"
      ],
      "text/plain": [
       "Empty DataFrame\n",
       "Columns: [id, date, price, bedrooms, bathrooms, sqft_living, sqft_lot, floors, waterfront, view, condition, grade, sqft_above, sqft_basement, yr_built, yr_renovated, zipcode, lat, long, sqft_living15, sqft_lot15]\n",
       "Index: []\n",
       "\n",
       "[0 rows x 21 columns]"
      ]
     },
     "execution_count": 220,
     "metadata": {},
     "output_type": "execute_result"
    }
   ],
   "source": [
    "## Checking for empty values of price\n",
    "kc_house_data[kc_house_data['price'] == '']"
   ]
  },
  {
   "cell_type": "markdown",
   "metadata": {},
   "source": [
    "No values are empty in the price column"
   ]
  },
  {
   "cell_type": "markdown",
   "metadata": {},
   "source": [
    " 1.) location.  The plan here is to groupby zipcode.  Then find the average price of each house in each zipcode. Next I will plot each zipcode with its corresponding average price.  This should give me a good insight into which zipcodes have houses that on average sell for more than houses in other zipcodes."
   ]
  },
  {
   "cell_type": "code",
   "execution_count": 221,
   "metadata": {},
   "outputs": [],
   "source": [
    "#groupby based on location(zipcode)\n",
    "pd.set_option('display.float_format', lambda x: '%.2f' % x)\n",
    "location_group = kc_house_data.groupby('zipcode').mean()"
   ]
  },
  {
   "cell_type": "code",
   "execution_count": 222,
   "metadata": {},
   "outputs": [],
   "source": [
    "#resetting index so zipcode is first column, not the index.\n",
    "location_group = location_group.rename_axis('Zipcode').reset_index()"
   ]
  },
  {
   "cell_type": "code",
   "execution_count": 223,
   "metadata": {},
   "outputs": [
    {
     "data": {
      "text/html": [
       "<div>\n",
       "<style scoped>\n",
       "    .dataframe tbody tr th:only-of-type {\n",
       "        vertical-align: middle;\n",
       "    }\n",
       "\n",
       "    .dataframe tbody tr th {\n",
       "        vertical-align: top;\n",
       "    }\n",
       "\n",
       "    .dataframe thead th {\n",
       "        text-align: right;\n",
       "    }\n",
       "</style>\n",
       "<table border=\"1\" class=\"dataframe\">\n",
       "  <thead>\n",
       "    <tr style=\"text-align: right;\">\n",
       "      <th></th>\n",
       "      <th>id</th>\n",
       "      <th>date</th>\n",
       "      <th>price</th>\n",
       "      <th>bedrooms</th>\n",
       "      <th>bathrooms</th>\n",
       "      <th>sqft_living</th>\n",
       "      <th>sqft_lot</th>\n",
       "      <th>floors</th>\n",
       "      <th>waterfront</th>\n",
       "      <th>view</th>\n",
       "      <th>...</th>\n",
       "      <th>grade</th>\n",
       "      <th>sqft_above</th>\n",
       "      <th>sqft_basement</th>\n",
       "      <th>yr_built</th>\n",
       "      <th>yr_renovated</th>\n",
       "      <th>zipcode</th>\n",
       "      <th>lat</th>\n",
       "      <th>long</th>\n",
       "      <th>sqft_living15</th>\n",
       "      <th>sqft_lot15</th>\n",
       "    </tr>\n",
       "  </thead>\n",
       "  <tbody>\n",
       "    <tr>\n",
       "      <th>9245</th>\n",
       "      <td>9208900037</td>\n",
       "      <td>9/19/2014</td>\n",
       "      <td>6890000.00</td>\n",
       "      <td>6</td>\n",
       "      <td>7.75</td>\n",
       "      <td>9890</td>\n",
       "      <td>31374</td>\n",
       "      <td>2.00</td>\n",
       "      <td>0</td>\n",
       "      <td>4.00</td>\n",
       "      <td>...</td>\n",
       "      <td>13</td>\n",
       "      <td>8860</td>\n",
       "      <td>1030.0</td>\n",
       "      <td>2001</td>\n",
       "      <td>0.00</td>\n",
       "      <td>98039</td>\n",
       "      <td>47.63</td>\n",
       "      <td>-122.24</td>\n",
       "      <td>4540</td>\n",
       "      <td>42730</td>\n",
       "    </tr>\n",
       "    <tr>\n",
       "      <th>6035</th>\n",
       "      <td>1725059316</td>\n",
       "      <td>11/20/2014</td>\n",
       "      <td>2390000.00</td>\n",
       "      <td>4</td>\n",
       "      <td>4.00</td>\n",
       "      <td>6330</td>\n",
       "      <td>13296</td>\n",
       "      <td>2.00</td>\n",
       "      <td>0</td>\n",
       "      <td>1.00</td>\n",
       "      <td>...</td>\n",
       "      <td>13</td>\n",
       "      <td>4900</td>\n",
       "      <td>1430.0</td>\n",
       "      <td>2000</td>\n",
       "      <td>0.00</td>\n",
       "      <td>98033</td>\n",
       "      <td>47.65</td>\n",
       "      <td>-122.20</td>\n",
       "      <td>2200</td>\n",
       "      <td>9196</td>\n",
       "    </tr>\n",
       "    <tr>\n",
       "      <th>13398</th>\n",
       "      <td>2426039123</td>\n",
       "      <td>1/30/2015</td>\n",
       "      <td>2420000.00</td>\n",
       "      <td>5</td>\n",
       "      <td>4.75</td>\n",
       "      <td>7880</td>\n",
       "      <td>24250</td>\n",
       "      <td>2.00</td>\n",
       "      <td>0</td>\n",
       "      <td>1.00</td>\n",
       "      <td>...</td>\n",
       "      <td>13</td>\n",
       "      <td>7880</td>\n",
       "      <td>0.0</td>\n",
       "      <td>1996</td>\n",
       "      <td>0.00</td>\n",
       "      <td>98177</td>\n",
       "      <td>47.73</td>\n",
       "      <td>-122.36</td>\n",
       "      <td>2740</td>\n",
       "      <td>10761</td>\n",
       "    </tr>\n",
       "    <tr>\n",
       "      <th>4407</th>\n",
       "      <td>2470100110</td>\n",
       "      <td>8/4/2014</td>\n",
       "      <td>5570000.00</td>\n",
       "      <td>5</td>\n",
       "      <td>5.75</td>\n",
       "      <td>9200</td>\n",
       "      <td>35069</td>\n",
       "      <td>2.00</td>\n",
       "      <td>0</td>\n",
       "      <td>0.00</td>\n",
       "      <td>...</td>\n",
       "      <td>13</td>\n",
       "      <td>6200</td>\n",
       "      <td>3000.0</td>\n",
       "      <td>2001</td>\n",
       "      <td>nan</td>\n",
       "      <td>98039</td>\n",
       "      <td>47.63</td>\n",
       "      <td>-122.23</td>\n",
       "      <td>3560</td>\n",
       "      <td>24345</td>\n",
       "    </tr>\n",
       "    <tr>\n",
       "      <th>10362</th>\n",
       "      <td>3303850390</td>\n",
       "      <td>12/12/2014</td>\n",
       "      <td>2980000.00</td>\n",
       "      <td>5</td>\n",
       "      <td>5.50</td>\n",
       "      <td>7400</td>\n",
       "      <td>18898</td>\n",
       "      <td>2.00</td>\n",
       "      <td>0</td>\n",
       "      <td>3.00</td>\n",
       "      <td>...</td>\n",
       "      <td>13</td>\n",
       "      <td>6290</td>\n",
       "      <td>1110.0</td>\n",
       "      <td>2001</td>\n",
       "      <td>0.00</td>\n",
       "      <td>98006</td>\n",
       "      <td>47.54</td>\n",
       "      <td>-122.11</td>\n",
       "      <td>6110</td>\n",
       "      <td>26442</td>\n",
       "    </tr>\n",
       "    <tr>\n",
       "      <th>...</th>\n",
       "      <td>...</td>\n",
       "      <td>...</td>\n",
       "      <td>...</td>\n",
       "      <td>...</td>\n",
       "      <td>...</td>\n",
       "      <td>...</td>\n",
       "      <td>...</td>\n",
       "      <td>...</td>\n",
       "      <td>...</td>\n",
       "      <td>...</td>\n",
       "      <td>...</td>\n",
       "      <td>...</td>\n",
       "      <td>...</td>\n",
       "      <td>...</td>\n",
       "      <td>...</td>\n",
       "      <td>...</td>\n",
       "      <td>...</td>\n",
       "      <td>...</td>\n",
       "      <td>...</td>\n",
       "      <td>...</td>\n",
       "      <td>...</td>\n",
       "    </tr>\n",
       "    <tr>\n",
       "      <th>7966</th>\n",
       "      <td>3122069029</td>\n",
       "      <td>6/19/2014</td>\n",
       "      <td>120000.00</td>\n",
       "      <td>2</td>\n",
       "      <td>1.00</td>\n",
       "      <td>990</td>\n",
       "      <td>39964</td>\n",
       "      <td>1.00</td>\n",
       "      <td>0</td>\n",
       "      <td>0.00</td>\n",
       "      <td>...</td>\n",
       "      <td>4</td>\n",
       "      <td>990</td>\n",
       "      <td>0.0</td>\n",
       "      <td>1945</td>\n",
       "      <td>0.00</td>\n",
       "      <td>98042</td>\n",
       "      <td>47.36</td>\n",
       "      <td>-122.08</td>\n",
       "      <td>1560</td>\n",
       "      <td>8990</td>\n",
       "    </tr>\n",
       "    <tr>\n",
       "      <th>1065</th>\n",
       "      <td>3340401535</td>\n",
       "      <td>11/5/2014</td>\n",
       "      <td>140000.00</td>\n",
       "      <td>1</td>\n",
       "      <td>1.00</td>\n",
       "      <td>730</td>\n",
       "      <td>6890</td>\n",
       "      <td>1.00</td>\n",
       "      <td>0</td>\n",
       "      <td>0.00</td>\n",
       "      <td>...</td>\n",
       "      <td>4</td>\n",
       "      <td>730</td>\n",
       "      <td>0.0</td>\n",
       "      <td>1926</td>\n",
       "      <td>0.00</td>\n",
       "      <td>98055</td>\n",
       "      <td>47.47</td>\n",
       "      <td>-122.22</td>\n",
       "      <td>1790</td>\n",
       "      <td>7969</td>\n",
       "    </tr>\n",
       "    <tr>\n",
       "      <th>16516</th>\n",
       "      <td>2114700500</td>\n",
       "      <td>4/18/2015</td>\n",
       "      <td>90000.00</td>\n",
       "      <td>1</td>\n",
       "      <td>1.00</td>\n",
       "      <td>560</td>\n",
       "      <td>4120</td>\n",
       "      <td>1.00</td>\n",
       "      <td>0</td>\n",
       "      <td>0.00</td>\n",
       "      <td>...</td>\n",
       "      <td>4</td>\n",
       "      <td>560</td>\n",
       "      <td>0.0</td>\n",
       "      <td>1947</td>\n",
       "      <td>0.00</td>\n",
       "      <td>98106</td>\n",
       "      <td>47.53</td>\n",
       "      <td>-122.35</td>\n",
       "      <td>980</td>\n",
       "      <td>4120</td>\n",
       "    </tr>\n",
       "    <tr>\n",
       "      <th>12063</th>\n",
       "      <td>8655900162</td>\n",
       "      <td>2/19/2015</td>\n",
       "      <td>156000.00</td>\n",
       "      <td>1</td>\n",
       "      <td>0.75</td>\n",
       "      <td>470</td>\n",
       "      <td>15000</td>\n",
       "      <td>1.00</td>\n",
       "      <td>0</td>\n",
       "      <td>0.00</td>\n",
       "      <td>...</td>\n",
       "      <td>4</td>\n",
       "      <td>470</td>\n",
       "      <td>0.0</td>\n",
       "      <td>1947</td>\n",
       "      <td>0.00</td>\n",
       "      <td>98014</td>\n",
       "      <td>47.66</td>\n",
       "      <td>-121.91</td>\n",
       "      <td>1730</td>\n",
       "      <td>22500</td>\n",
       "    </tr>\n",
       "    <tr>\n",
       "      <th>3220</th>\n",
       "      <td>2420069251</td>\n",
       "      <td>2/25/2015</td>\n",
       "      <td>262000.00</td>\n",
       "      <td>1</td>\n",
       "      <td>0.75</td>\n",
       "      <td>520</td>\n",
       "      <td>12981</td>\n",
       "      <td>1.00</td>\n",
       "      <td>0</td>\n",
       "      <td>0.00</td>\n",
       "      <td>...</td>\n",
       "      <td>3</td>\n",
       "      <td>520</td>\n",
       "      <td>0.0</td>\n",
       "      <td>1920</td>\n",
       "      <td>0.00</td>\n",
       "      <td>98022</td>\n",
       "      <td>47.21</td>\n",
       "      <td>-122.00</td>\n",
       "      <td>1340</td>\n",
       "      <td>12233</td>\n",
       "    </tr>\n",
       "  </tbody>\n",
       "</table>\n",
       "<p>21597 rows × 21 columns</p>\n",
       "</div>"
      ],
      "text/plain": [
       "               id        date      price  bedrooms  bathrooms  sqft_living  \\\n",
       "9245   9208900037   9/19/2014 6890000.00         6       7.75         9890   \n",
       "6035   1725059316  11/20/2014 2390000.00         4       4.00         6330   \n",
       "13398  2426039123   1/30/2015 2420000.00         5       4.75         7880   \n",
       "4407   2470100110    8/4/2014 5570000.00         5       5.75         9200   \n",
       "10362  3303850390  12/12/2014 2980000.00         5       5.50         7400   \n",
       "...           ...         ...        ...       ...        ...          ...   \n",
       "7966   3122069029   6/19/2014  120000.00         2       1.00          990   \n",
       "1065   3340401535   11/5/2014  140000.00         1       1.00          730   \n",
       "16516  2114700500   4/18/2015   90000.00         1       1.00          560   \n",
       "12063  8655900162   2/19/2015  156000.00         1       0.75          470   \n",
       "3220   2420069251   2/25/2015  262000.00         1       0.75          520   \n",
       "\n",
       "       sqft_lot  floors  waterfront  view  ... grade  sqft_above  \\\n",
       "9245      31374    2.00           0  4.00  ...    13        8860   \n",
       "6035      13296    2.00           0  1.00  ...    13        4900   \n",
       "13398     24250    2.00           0  1.00  ...    13        7880   \n",
       "4407      35069    2.00           0  0.00  ...    13        6200   \n",
       "10362     18898    2.00           0  3.00  ...    13        6290   \n",
       "...         ...     ...         ...   ...  ...   ...         ...   \n",
       "7966      39964    1.00           0  0.00  ...     4         990   \n",
       "1065       6890    1.00           0  0.00  ...     4         730   \n",
       "16516      4120    1.00           0  0.00  ...     4         560   \n",
       "12063     15000    1.00           0  0.00  ...     4         470   \n",
       "3220      12981    1.00           0  0.00  ...     3         520   \n",
       "\n",
       "       sqft_basement yr_built  yr_renovated  zipcode   lat    long  \\\n",
       "9245          1030.0     2001          0.00    98039 47.63 -122.24   \n",
       "6035          1430.0     2000          0.00    98033 47.65 -122.20   \n",
       "13398            0.0     1996          0.00    98177 47.73 -122.36   \n",
       "4407          3000.0     2001           nan    98039 47.63 -122.23   \n",
       "10362         1110.0     2001          0.00    98006 47.54 -122.11   \n",
       "...              ...      ...           ...      ...   ...     ...   \n",
       "7966             0.0     1945          0.00    98042 47.36 -122.08   \n",
       "1065             0.0     1926          0.00    98055 47.47 -122.22   \n",
       "16516            0.0     1947          0.00    98106 47.53 -122.35   \n",
       "12063            0.0     1947          0.00    98014 47.66 -121.91   \n",
       "3220             0.0     1920          0.00    98022 47.21 -122.00   \n",
       "\n",
       "       sqft_living15  sqft_lot15  \n",
       "9245            4540       42730  \n",
       "6035            2200        9196  \n",
       "13398           2740       10761  \n",
       "4407            3560       24345  \n",
       "10362           6110       26442  \n",
       "...              ...         ...  \n",
       "7966            1560        8990  \n",
       "1065            1790        7969  \n",
       "16516            980        4120  \n",
       "12063           1730       22500  \n",
       "3220            1340       12233  \n",
       "\n",
       "[21597 rows x 21 columns]"
      ]
     },
     "execution_count": 223,
     "metadata": {},
     "output_type": "execute_result"
    }
   ],
   "source": [
    "#sorting price by descending\n",
    "kc_house_data.sort_values(by = 'grade', ascending = False)"
   ]
  },
  {
   "cell_type": "code",
   "execution_count": 224,
   "metadata": {},
   "outputs": [
    {
     "data": {
      "image/png": "[encoded data removed]",
      "text/plain": [
       "<Figure size 2880x1080 with 1 Axes>"
      ]
     },
     "metadata": {
      "needs_background": "light"
     },
     "output_type": "display_data"
    }
   ],
   "source": [
    "#plotting Zipcode vs Average Price\n",
    "fig = plt.figure(figsize=(40, 15))\n",
    "sns.set(font_scale = 2)\n",
    "sns.barplot(x = 'Zipcode',\n",
    "            y = 'price',\n",
    "            data = location_group,\n",
    "            color = 'blue',\n",
    "            order = location_group.sort_values('price', ascending = False).Zipcode)\n",
    "\n",
    "plt.title('Zipcode vs Average Price')\n",
    "plt.xlabel('Zipcode')\n",
    "plt.xticks(rotation=50)\n",
    "plt.ylabel('Average Price')\n",
    "plt.ticklabel_format(style='plain', axis='y')\n",
    "\n"
   ]
  },
  {
   "cell_type": "code",
   "execution_count": 225,
   "metadata": {},
   "outputs": [],
   "source": [
    "#creating waterfront group\n",
    "waterfront_group = kc_house_data.groupby(by = 'waterfront').mean()"
   ]
  },
  {
   "cell_type": "code",
   "execution_count": 226,
   "metadata": {},
   "outputs": [],
   "source": [
    "waterfront_group = waterfront_group.rename_axis('waterfront').reset_index()"
   ]
  },
  {
   "cell_type": "code",
   "execution_count": 227,
   "metadata": {},
   "outputs": [
    {
     "data": {
      "text/html": [
       "<div>\n",
       "<style scoped>\n",
       "    .dataframe tbody tr th:only-of-type {\n",
       "        vertical-align: middle;\n",
       "    }\n",
       "\n",
       "    .dataframe tbody tr th {\n",
       "        vertical-align: top;\n",
       "    }\n",
       "\n",
       "    .dataframe thead th {\n",
       "        text-align: right;\n",
       "    }\n",
       "</style>\n",
       "<table border=\"1\" class=\"dataframe\">\n",
       "  <thead>\n",
       "    <tr style=\"text-align: right;\">\n",
       "      <th></th>\n",
       "      <th>waterfront</th>\n",
       "      <th>id</th>\n",
       "      <th>price</th>\n",
       "      <th>bedrooms</th>\n",
       "      <th>bathrooms</th>\n",
       "      <th>sqft_living</th>\n",
       "      <th>sqft_lot</th>\n",
       "      <th>floors</th>\n",
       "      <th>view</th>\n",
       "      <th>grade</th>\n",
       "      <th>sqft_above</th>\n",
       "      <th>yr_built</th>\n",
       "      <th>yr_renovated</th>\n",
       "      <th>zipcode</th>\n",
       "      <th>lat</th>\n",
       "      <th>long</th>\n",
       "      <th>sqft_living15</th>\n",
       "      <th>sqft_lot15</th>\n",
       "    </tr>\n",
       "  </thead>\n",
       "  <tbody>\n",
       "    <tr>\n",
       "      <th>0</th>\n",
       "      <td>0</td>\n",
       "      <td>4581328505.14</td>\n",
       "      <td>532286.22</td>\n",
       "      <td>3.37</td>\n",
       "      <td>2.11</td>\n",
       "      <td>2072.40</td>\n",
       "      <td>15026.10</td>\n",
       "      <td>1.49</td>\n",
       "      <td>0.18</td>\n",
       "      <td>7.65</td>\n",
       "      <td>1783.70</td>\n",
       "      <td>1971.06</td>\n",
       "      <td>80.94</td>\n",
       "      <td>98077.82</td>\n",
       "      <td>47.56</td>\n",
       "      <td>-122.21</td>\n",
       "      <td>1981.88</td>\n",
       "      <td>12689.30</td>\n",
       "    </tr>\n",
       "    <tr>\n",
       "      <th>1</th>\n",
       "      <td>1</td>\n",
       "      <td>4454968693.05</td>\n",
       "      <td>1717214.73</td>\n",
       "      <td>3.35</td>\n",
       "      <td>2.71</td>\n",
       "      <td>3244.75</td>\n",
       "      <td>25870.88</td>\n",
       "      <td>1.63</td>\n",
       "      <td>3.72</td>\n",
       "      <td>8.84</td>\n",
       "      <td>2508.76</td>\n",
       "      <td>1962.28</td>\n",
       "      <td>476.63</td>\n",
       "      <td>98096.71</td>\n",
       "      <td>47.54</td>\n",
       "      <td>-122.28</td>\n",
       "      <td>2682.83</td>\n",
       "      <td>22893.70</td>\n",
       "    </tr>\n",
       "  </tbody>\n",
       "</table>\n",
       "</div>"
      ],
      "text/plain": [
       "   waterfront            id      price  bedrooms  bathrooms  sqft_living  \\\n",
       "0           0 4581328505.14  532286.22      3.37       2.11      2072.40   \n",
       "1           1 4454968693.05 1717214.73      3.35       2.71      3244.75   \n",
       "\n",
       "   sqft_lot  floors  view  grade  sqft_above  yr_built  yr_renovated  zipcode  \\\n",
       "0  15026.10    1.49  0.18   7.65     1783.70   1971.06         80.94 98077.82   \n",
       "1  25870.88    1.63  3.72   8.84     2508.76   1962.28        476.63 98096.71   \n",
       "\n",
       "    lat    long  sqft_living15  sqft_lot15  \n",
       "0 47.56 -122.21        1981.88    12689.30  \n",
       "1 47.54 -122.28        2682.83    22893.70  "
      ]
     },
     "execution_count": 227,
     "metadata": {},
     "output_type": "execute_result"
    }
   ],
   "source": [
    "waterfront_group"
   ]
  },
  {
   "cell_type": "code",
   "execution_count": 228,
   "metadata": {},
   "outputs": [
    {
     "data": {
      "image/png": "[encoded data removed]",
      "text/plain": [
       "<Figure size 720x360 with 1 Axes>"
      ]
     },
     "metadata": {},
     "output_type": "display_data"
    }
   ],
   "source": [
    "#plotting avg price of homes on waterfront vs not on waterfront\n",
    "fig = plt.figure(figsize=(10, 5))\n",
    "sns.set(font_scale = 2)\n",
    "sns.barplot(x = 'waterfront',\n",
    "            y = 'price',\n",
    "            data = waterfront_group,\n",
    "            color = 'blue',\n",
    "            order = waterfront_group.sort_values('price', ascending = False).waterfront)\n",
    "\n",
    "plt.title('waterfront vs Average Price')\n",
    "plt.xlabel('waterfront')\n",
    "plt.xticks(rotation=50)\n",
    "plt.ylabel('Average Price')\n",
    "plt.ticklabel_format(style='plain', axis='y')"
   ]
  },
  {
   "cell_type": "markdown",
   "metadata": {},
   "source": [
    "### Comparing size of houses and plots to price"
   ]
  },
  {
   "cell_type": "markdown",
   "metadata": {},
   "source": [
    "2.) Size vs price\n",
    "\n",
    "In this section of my notebook I will be comparing how the size of a house and its plot compare to the overall price of a home.  The plan is to first create a scatter plot that compares the square footage of a home to the price and plot a line of regression.  With that we will be able to see if on average homes tend to increase in price with more square footage."
   ]
  },
  {
   "cell_type": "code",
   "execution_count": null,
   "metadata": {},
   "outputs": [],
   "source": [
    "# looking for any missing values in square footage\n",
    "kc_house_data[kc_house_data['sqft_living'] == 'NaN']"
   ]
  },
  {
   "cell_type": "markdown",
   "metadata": {},
   "source": [
    "There are no values of NaN"
   ]
  },
  {
   "cell_type": "code",
   "execution_count": null,
   "metadata": {},
   "outputs": [],
   "source": [
    "kc_house_data[kc_house_data['sqft_living'] == '']"
   ]
  },
  {
   "cell_type": "markdown",
   "metadata": {},
   "source": [
    "There are no empty values"
   ]
  },
  {
   "cell_type": "code",
   "execution_count": null,
   "metadata": {},
   "outputs": [],
   "source": [
    "# scatter plot home price vs square footage\n",
    "fig = plt.figure(figsize=(500, 500))\n",
    "sns.set(font_scale = 1)\n",
    "sns.lmplot(x = 'sqft_living',\n",
    "           y = 'price',\n",
    "           data = kc_house_data,\n",
    "           line_kws={\"color\":\"r\",\"alpha\":0.7,\"lw\":5})\n",
    "\n",
    "plt.ticklabel_format(style='plain', axis='y')\n",
    "plt.xlabel('Square footage of living space')\n",
    "plt.ylabel('Price of home')\n",
    "plt.title('Price of homes compared to their square footage of living space')"
   ]
  },
  {
   "cell_type": "code",
   "execution_count": null,
   "metadata": {},
   "outputs": [],
   "source": [
    "kc_house_data['sqft_living'].corr(kc_house_data['price'])"
   ]
  },
  {
   "cell_type": "markdown",
   "metadata": {},
   "source": [
    "you can clearly see there is a positive correlation between the size of a home, and the overall price of a home."
   ]
  },
  {
   "cell_type": "code",
   "execution_count": null,
   "metadata": {},
   "outputs": [],
   "source": [
    "# scatter plot to determine the relationship between square feet of plot vs price\n",
    "fig = plt.figure(figsize=(500, 500))\n",
    "sns.set(font_scale = 1)\n",
    "sns.lmplot(x = 'sqft_lot',\n",
    "           y = 'price',\n",
    "           data = kc_house_data,\n",
    "           line_kws={\"color\":\"r\",\"alpha\":0.7,\"lw\":5})\n",
    "\n",
    "plt.ticklabel_format(style='plain', axis='y')\n",
    "plt.ticklabel_format(style='plain', axis='x')\n",
    "plt.xlabel('Square footage of land')\n",
    "plt.xticks(rotation=50)\n",
    "plt.ylabel('Price of home')\n",
    "plt.title('Price of homes compared to their square footage of land')"
   ]
  },
  {
   "cell_type": "code",
   "execution_count": null,
   "metadata": {},
   "outputs": [],
   "source": [
    "kc_house_data['sqft_lot'].corr(kc_house_data['price'])"
   ]
  },
  {
   "cell_type": "markdown",
   "metadata": {},
   "source": [
    "As we can see here there is a slight positive correlation between square footage of the plot compared to price.\n",
    "however comparing this to square footage of living space of the house, it would be more beneficial to concentrate on a larger living space rather than the amount of land."
   ]
  },
  {
   "cell_type": "markdown",
   "metadata": {},
   "source": [
    "# comparing amount of rooms to price"
   ]
  },
  {
   "cell_type": "markdown",
   "metadata": {},
   "source": [
    "Here I will be comparing the amount of rooms to overall price. "
   ]
  },
  {
   "cell_type": "code",
   "execution_count": null,
   "metadata": {},
   "outputs": [],
   "source": [
    "fig = plt.figure(figsize=(500, 500))\n",
    "sns.set(font_scale = 1)\n",
    "sns.lmplot(x = 'bedrooms',\n",
    "           y = 'price',\n",
    "           data = kc_house_data,\n",
    "           line_kws={\"color\":\"r\",\"alpha\":0.7,\"lw\":5})\n",
    "\n",
    "plt.ticklabel_format(style='plain', axis='y')\n",
    "plt.xlabel('Number of bedrooms')\n",
    "plt.ylabel('Price of home')\n",
    "plt.title('Price of homes compared to their number of bedrooms')"
   ]
  },
  {
   "cell_type": "code",
   "execution_count": null,
   "metadata": {},
   "outputs": [],
   "source": [
    "kc_house_data['bedrooms'].corr(kc_house_data['price'])"
   ]
  },
  {
   "cell_type": "markdown",
   "metadata": {},
   "source": [
    "There is a positive correlation between number of rooms and the price of a house."
   ]
  },
  {
   "cell_type": "code",
   "execution_count": null,
   "metadata": {},
   "outputs": [],
   "source": [
    "fig = plt.figure(figsize=(500, 500))\n",
    "sns.set(font_scale = 1)\n",
    "sns.lmplot(x = 'bathrooms',\n",
    "           y = 'price',\n",
    "           data = kc_house_data,\n",
    "           line_kws={\"color\":\"r\",\"alpha\":0.7,\"lw\":5})\n",
    "\n",
    "plt.ticklabel_format(style='plain', axis='y')\n",
    "plt.xlabel('Number of bathrooms')\n",
    "plt.ylabel('Price of home')\n",
    "plt.title('Price of homes compared to their number of bathrooms')"
   ]
  },
  {
   "cell_type": "code",
   "execution_count": null,
   "metadata": {},
   "outputs": [],
   "source": [
    "kc_house_data['bathrooms'].corr(kc_house_data['price'])"
   ]
  },
  {
   "cell_type": "markdown",
   "metadata": {},
   "source": [
    "### How does the age of a house, condition, and renovations effect the price of a house?"
   ]
  },
  {
   "cell_type": "markdown",
   "metadata": {},
   "source": [
    "In this section of my notebook i will explore how the age of a house, the condition, and the renovations effect the price of a house.  Since there are too many years to plot the average home price of each year with a bar graph, I will use another scatter plot to show how the year effects the sale price.  The next step will be to look into the overall grade, or quality of the house.  In the above cells i removed the characters that were not numbers, and changed the datatype from object to integer.  To explore this data I will make 2 graphs, the first will show the average sale price for each grade, 1 through 13.  1 being the lowest and 13 being the highest.  "
   ]
  },
  {
   "cell_type": "code",
   "execution_count": null,
   "metadata": {},
   "outputs": [],
   "source": [
    "fig = plt.figure(figsize=(500, 500))\n",
    "sns.set(font_scale = 1)\n",
    "sns.lmplot(x = 'yr_built',\n",
    "           y = 'price',\n",
    "           data = kc_house_data,\n",
    "           line_kws={\"color\":\"r\",\"alpha\":0.7,\"lw\":5})\n",
    "\n",
    "plt.ticklabel_format(style='plain', axis='y')\n",
    "plt.xlabel('Year of construction')\n",
    "plt.ylabel('Price of home')\n",
    "plt.title('Price of homes compared to what year they were built')"
   ]
  },
  {
   "cell_type": "code",
   "execution_count": null,
   "metadata": {},
   "outputs": [],
   "source": [
    "#calculating correlation value of the year a house is built to its sale price\n",
    "kc_house_data['yr_built'].corr(kc_house_data['price'])"
   ]
  },
  {
   "cell_type": "markdown",
   "metadata": {},
   "source": [
    "As we can see the correlation value is very insignificant when comparing the value of a home to the year built."
   ]
  },
  {
   "cell_type": "code",
   "execution_count": null,
   "metadata": {},
   "outputs": [],
   "source": [
    "#plotting scatter plot for homes compared to their grade, 1 - 13\n",
    "fig = plt.figure(figsize=(500, 500))\n",
    "sns.set(font_scale = 1)\n",
    "sns.lmplot(x = 'grade',\n",
    "           y = 'price',\n",
    "           data = kc_house_data,\n",
    "           line_kws={\"color\":\"r\",\"alpha\":0.7,\"lw\":5})\n",
    "\n",
    "plt.ticklabel_format(style='plain', axis='y')\n",
    "plt.xlabel('Overall grade or quality of a home')\n",
    "plt.ylabel('Price of home')\n",
    "plt.title('Price of homes compared to their grade')"
   ]
  },
  {
   "cell_type": "code",
   "execution_count": null,
   "metadata": {},
   "outputs": [],
   "source": [
    "#calculating correlation between grade and price\n",
    "kc_house_data['grade'].corr(kc_house_data['price'])"
   ]
  },
  {
   "cell_type": "markdown",
   "metadata": {},
   "source": [
    "There is a positive correlation between the grade of house, and the sale price."
   ]
  },
  {
   "cell_type": "markdown",
   "metadata": {},
   "source": [
    "The next step is to create a group for each grade, and calculate the average price for each grade."
   ]
  },
  {
   "cell_type": "code",
   "execution_count": null,
   "metadata": {},
   "outputs": [],
   "source": [
    "#Creating a groupby of 'grade', with the average values of each column\n",
    "pd.set_option('display.float_format', lambda x: '%.2f' % x)\n",
    "grade_group = kc_house_data.groupby('grade').mean()"
   ]
  },
  {
   "cell_type": "code",
   "execution_count": null,
   "metadata": {},
   "outputs": [],
   "source": [
    "grade_group"
   ]
  },
  {
   "cell_type": "code",
   "execution_count": null,
   "metadata": {},
   "outputs": [],
   "source": [
    "#resetting index of grade group so grade shows as column not index\n",
    "grade_group = grade_group.rename_axis('grade').reset_index()"
   ]
  },
  {
   "cell_type": "code",
   "execution_count": null,
   "metadata": {},
   "outputs": [],
   "source": [
    "fig = plt.figure(figsize=(40, 15))\n",
    "sns.set(font_scale = 2)\n",
    "sns.barplot(x = 'grade',\n",
    "            y = 'price',\n",
    "            data = grade_group,\n",
    "            color = 'blue',\n",
    "            order = grade_group.sort_values('price', ascending = False).grade)\n",
    "\n",
    "plt.title('Grade vs Average Price')\n",
    "plt.xlabel('Grade')\n",
    "plt.ylabel('Average Price')\n",
    "plt.ticklabel_format(style='plain', axis='y')"
   ]
  },
  {
   "cell_type": "markdown",
   "metadata": {},
   "source": [
    "As expected, the average price of a house with a higher grade is higher than the average cost of a house with a lower grade."
   ]
  },
  {
   "cell_type": "code",
   "execution_count": null,
   "metadata": {},
   "outputs": [],
   "source": [
    "#filling nan values with 0\n",
    "kc_house_data['yr_renovated'] = kc_house_data['yr_renovated'].fillna(0)"
   ]
  },
  {
   "cell_type": "code",
   "execution_count": null,
   "metadata": {},
   "outputs": [],
   "source": [
    "#creating a new column with yes or no based off whether yr_renovated has a value higher than 0\n",
    "kc_house_data['yes_no_renovation'] = np.where(kc_house_data['yr_renovated'] < 1, (0), (1))"
   ]
  },
  {
   "cell_type": "code",
   "execution_count": null,
   "metadata": {},
   "outputs": [],
   "source": [
    "fig = plt.figure(figsize=(30, 15))\n",
    "sns.set(font_scale = 2)\n",
    "sns.boxplot(x = 'yes_no_renovation',\n",
    "            y = 'price',\n",
    "            data = kc_house_data)\n",
    "plt.ticklabel_format(style='plain', axis='y')\n",
    "\n",
    "plt.xlabel('Do these houses have renovations?')\n",
    "plt.ylabel('Price of house')\n",
    "plt.title('Houses with renovations vs houses without renovations')"
   ]
  },
  {
   "cell_type": "code",
   "execution_count": null,
   "metadata": {},
   "outputs": [],
   "source": [
    "yes_renovations = kc_house_data.loc[kc_house_data['yes_no_renovation'] == 1]"
   ]
  },
  {
   "cell_type": "code",
   "execution_count": null,
   "metadata": {},
   "outputs": [],
   "source": [
    "yes_renovation_group = yes_renovations.groupby(by = 'zipcode').mean().reset_index()"
   ]
  },
  {
   "cell_type": "code",
   "execution_count": null,
   "metadata": {},
   "outputs": [],
   "source": [
    "no_renovations = kc_house_data.loc[kc_house_data['yes_no_renovation'] == 0]"
   ]
  },
  {
   "cell_type": "code",
   "execution_count": null,
   "metadata": {},
   "outputs": [],
   "source": [
    "no_renovations_group = no_renovations.groupby(by = 'zipcode').mean().reset_index()"
   ]
  },
  {
   "cell_type": "code",
   "execution_count": null,
   "metadata": {},
   "outputs": [],
   "source": [
    "data = [yes_renovation_group, no_renovations_group]"
   ]
  },
  {
   "cell_type": "code",
   "execution_count": null,
   "metadata": {},
   "outputs": [],
   "source": [
    "renovations_df = pd.concat(data)"
   ]
  },
  {
   "cell_type": "code",
   "execution_count": null,
   "metadata": {
    "scrolled": true
   },
   "outputs": [],
   "source": [
    "renovations_df.sort_values(by = 'zipcode')"
   ]
  },
  {
   "cell_type": "code",
   "execution_count": null,
   "metadata": {},
   "outputs": [],
   "source": [
    "renovations_df.info()"
   ]
  },
  {
   "cell_type": "code",
   "execution_count": null,
   "metadata": {},
   "outputs": [],
   "source": [
    "\n",
    "#plotting average sale price of houses with and without renovations per zip\n",
    "fig = plt.figure(figsize=(30, 15))\n",
    "renovation_graph = sns.set(font_scale = 2)\n",
    "sns.barplot(x = 'zipcode',\n",
    "            y = 'price',\n",
    "            hue = 'yes_no_renovation',\n",
    "            data = renovations_df,\n",
    "            palette = 'bright')\n",
    "\n",
    "plt.xlabel('Zipcode')\n",
    "plt.xticks(rotation=75)\n",
    "plt.ylabel('Average price')\n",
    "plt.title('Price of houses in the same zipcode with and without renovations')\n",
    "plt.legend(title=\"Renovations\")\n",
    "\n",
    "red_patch = mpatches.Patch(color='orange', label='Renovations completed')\n",
    "blue_patch = mpatches.Patch(color='blue', label='No renovations completed')\n",
    "\n",
    "plt.legend(handles=[red_patch, blue_patch])\n",
    "\n",
    "\n",
    "plt.ticklabel_format(style='plain', axis='y')"
   ]
  },
  {
   "cell_type": "code",
   "execution_count": null,
   "metadata": {},
   "outputs": [],
   "source": [
    "kc_house_data.loc[kc_house_data['zipcode'] == 98102]"
   ]
  },
  {
   "cell_type": "markdown",
   "metadata": {},
   "source": [
    "###  Model for predicting price from bedrooms, bathrooms, and square footage in a certain area code."
   ]
  },
  {
   "cell_type": "code",
   "execution_count": null,
   "metadata": {},
   "outputs": [],
   "source": [
    "#setting X equal to columns\n",
    "X = kc_house_data[['bedrooms','bathrooms','sqft_living']]\n",
    "#y the target variable is set to price\n",
    "y = kc_house_data['price']\n",
    "\n",
    "regr = linear_model.LinearRegression()\n",
    "regr.fit(X, y)\n",
    "\n",
    "# Use these inputs to exercise the model\n",
    "numBeds = 2\n",
    "numBaths = 3\n",
    "squareFeet = 2000\n",
    "\n",
    "\n",
    "predictedPrice = regr.predict([[numBeds,numBaths,squareFeet]])\n",
    "print(predictedPrice)"
   ]
  },
  {
   "cell_type": "code",
   "execution_count": null,
   "metadata": {},
   "outputs": [],
   "source": []
  },
  {
   "cell_type": "code",
   "execution_count": null,
   "metadata": {},
   "outputs": [],
   "source": [
    "#one observation made is in the zipcode of 98102 more bedrooms seems to make the price of a home go down, where as adding a bathroom or square footage in general raises the price."
   ]
  },
  {
   "cell_type": "markdown",
   "metadata": {},
   "source": [
    "### Regression Model"
   ]
  },
  {
   "cell_type": "code",
   "execution_count": null,
   "metadata": {},
   "outputs": [],
   "source": [
    "#create model using y and X and figure out the equation of the line.\n",
    "ols = linear_model.LinearRegression()\n",
    "model = sm.OLS(endog = y, exog = X).fit()\n",
    "response = model.predict(X)\n"
   ]
  },
  {
   "cell_type": "code",
   "execution_count": null,
   "metadata": {},
   "outputs": [],
   "source": [
    "fig, ax = plt.subplots(figsize=(12, 12))\n",
    "\n",
    "# Select features for the model\n",
    "X = kc_house_data[[\"bedrooms\", \"bathrooms\", \"sqft_living\"]]\n",
    "\n",
    "# Select target variable\n",
    "y = kc_house_data[\"price\"]\n",
    "\n",
    "# Fit the model\n",
    "model = linear_model.LinearRegression()\n",
    "model.fit(X, y)\n",
    "\n",
    "plt.gca().xaxis.set_major_formatter(ticker.StrMethodFormatter('{x:,.0f}'))\n",
    "plt.gca().yaxis.set_major_formatter(ticker.StrMethodFormatter('{x:,.0f}'))\n",
    "\n",
    "# Plot the regression line\n",
    "sns.regplot(x=predictions, y=y)\n",
    "plt.xlabel(\"Predicted Price\")\n",
    "plt.ylabel(\"Actual Price\")\n",
    "plt.title(\"Exploring the correlation between bedrooms, bathrooms, and living space vs price\")\n",
    "plt.show()"
   ]
  },
  {
   "cell_type": "code",
   "execution_count": null,
   "metadata": {},
   "outputs": [],
   "source": [
    "# Select features for the model\n",
    "X = kc_house_data[[\"bedrooms\", \"bathrooms\", \"sqft_living\"]]\n",
    "\n",
    "# Select target variable\n",
    "y = kc_house_data[\"price\"]\n",
    "\n",
    "# Fit the model\n",
    "model = LinearRegression()\n",
    "model.fit(X, y)\n",
    "\n",
    "# Make predictions\n",
    "predictions = model.predict(X)\n",
    "\n",
    "# Plot the regression surface\n",
    "fig = plt.figure(figsize=(15, 15))\n",
    "ax = fig.add_subplot(111, projection='3d')\n",
    "ax.scatter(kc_house_data[\"bedrooms\"], kc_house_data[\"bathrooms\"], kc_house_data[\"sqft_living\"], c=predictions, cmap=plt.cm.jet, alpha=1)\n",
    "ax.set_xlabel(\"Bedrooms\", size=15)\n",
    "ax.set_ylabel(\"Bathrooms\", size=15)\n",
    "ax.set_zlabel(\"Sqft Living\", size=15)\n",
    "ax.set_xticklabels(ax.get_xticks(), fontsize=13)\n",
    "ax.set_yticklabels(ax.get_yticks(), fontsize=13)\n",
    "ax.set_zticklabels(ax.get_zticks(), fontsize=13)\n",
    "\n",
    "# Set the tick marks on the x-axis to go up by 1 and label them with the integer values of the tick marks\n",
    "xticks = range(min(kc_house_data[\"bedrooms\"]), max(kc_house_data[\"bedrooms\"])+1)\n",
    "ax.set_xticks(xticks)\n",
    "ax.set_xticklabels(xticks)\n",
    "\n",
    "# Set the tick marks on the y-axis to go up by 1 and label them with the integer values of the tick marks\n",
    "yticks = range(min(kc_house_data[\"bedrooms\"]), max(kc_house_data[\"bedrooms\"])+1)\n",
    "ax.set_yticks(yticks)\n",
    "ax.set_yticklabels(yticks)\n",
    "\n",
    "zticks = range(0, kc_house_data[\"sqft_living\"].max()+500, 500)\n",
    "ax.set_zticks(zticks)\n",
    "ax.set_zticklabels(zticks, fontsize=11, rotation=30)\n",
    "\n",
    "\n",
    "zticks = range(0, kc_house_data[\"sqft_living\"].max()+1000, 1000)\n",
    "ax.set_zticks(zticks[::2])\n",
    "ax.set_zticklabels(zticks[::2], fontsize=8)\n",
    "\n",
    "\n",
    "\n",
    "plt.show()"
   ]
  },
  {
   "cell_type": "markdown",
   "metadata": {},
   "source": [
    "calling OLS regression results"
   ]
  },
  {
   "cell_type": "code",
   "execution_count": null,
   "metadata": {},
   "outputs": [],
   "source": [
    "#calling OLS regression results\n",
    "formula = 'price ~bedrooms + bathrooms + sqft_living + zipcode + sqft_lot + floors + waterfront + sqft_above + yr_built + yr_renovated + lat + long + sqft_living15 + sqft_lot15 + yes_no_renovation'\n",
    "\n",
    "model = smf.ols(formula, data=kc_house_data).fit()\n",
    "\n",
    "print(model.summary())"
   ]
  },
  {
   "cell_type": "markdown",
   "metadata": {},
   "source": [
    "From looking at these regression results, I can see that none of the variables occured by chance.  I can tell this because Pvalue is 0.000 for everything. (besides intercept/ ask about this)\n",
    "\n",
    "from looking at my r-squared number, I can tell that given these variables,  with a value of 0.659, my model should be reliable."
   ]
  },
  {
   "cell_type": "markdown",
   "metadata": {},
   "source": [
    "## creating heat map based on price with variables being lat/long"
   ]
  },
  {
   "cell_type": "code",
   "execution_count": null,
   "metadata": {},
   "outputs": [],
   "source": [
    "# Create figure with larger size\n",
    "plt.figure(figsize=(50, 35))\n",
    "\n",
    "#new variable for price\n",
    "max_price = 2000000\n",
    "\n",
    "\n",
    "# Filter the data to only include houses sold for under $2,000,000\n",
    "filtered_data = kc_house_data[kc_house_data[\"price\"] < max_price]\n",
    "\n",
    "\n",
    "\n",
    "# Calculate the minimum, maximum, and range of the housing prices\n",
    "min_price = min(kc_house_data[\"price\"])\n",
    "max_price = max(kc_house_data[\"price\"])\n",
    "range_price = max_price - min_price\n",
    "\n",
    "# Create a scatterplot of the data\n",
    "plt.scatter(filtered_data[\"long\"], filtered_data[\"lat\"], c=filtered_data[\"price\"], cmap='RdYlGn')\n",
    "\n",
    "# Add a colorbar to the plot\n",
    "cbar = plt.colorbar()\n",
    "cbar.set_label(\"Price\", rotation = 90, size = 50)\n",
    "\n",
    "# Remove the exponent from the colorbar\n",
    "cbar.ax.yaxis.set_major_formatter(ticker.ScalarFormatter(useMathText=False))\n",
    "\n",
    "# Set the tick locations and tick labels manually\n",
    "cbar.set_ticks([min_price, min_price + range_price * 0.25, min_price + range_price * 0.5, min_price + range_price * 0.75, max_price])\n",
    "cbar.set_ticklabels(['${:,.0f}'.format(min_price), '${:,.0f}'.format(min_price + range_price * 0.25), '${:,.0f}'.format(min_price + range_price * 0.5), '${:,.0f}'.format(min_price + range_price * 0.75), '${:,.0f}'.format(max_price)])\n",
    "\n",
    "# Set the x axis tick locations\n",
    "plt.xticks(np.arange(-122.5, -121.5 + 0.1, 0.1), rotation = 50, size = 30)\n",
    "\n",
    "# Set the y axis tick locations\n",
    "plt.yticks(np.arange(47.2, 47.8 + 0.1, 0.1), rotation = 30, size = 30)\n",
    "\n",
    "# Add a title to the plot\n",
    "plt.title('Real Estate Prices in Kings County by Location', size = 75)\n",
    "\n",
    "# Add x and y axis labels\n",
    "plt.xlabel('Longitude', size = 50)\n",
    "plt.ylabel('Latitude', size = 50 )\n",
    "\n",
    "# Show the plot\n",
    "plt.show()"
   ]
  },
  {
   "cell_type": "markdown",
   "metadata": {},
   "source": [
    "The above heat map shows me that a good spot to look for homes to buy for resale is between latitude of 47.6 and 47.7.\n",
    "As for longitude it tells me that the most desirable spot is between 122.1 and 122.3\n",
    "this is the visualization for my FIRST question."
   ]
  },
  {
   "cell_type": "code",
   "execution_count": null,
   "metadata": {},
   "outputs": [],
   "source": [
    "# Create pair plot\n",
    "sns.pairplot(kc_house_data, vars=['bedrooms', 'bathrooms', 'sqft_living', 'price'], hue='yes_no_renovation')\n",
    "plt.figure(figsize=(16, 12))\n",
    "\n",
    "# Show plot\n",
    "plt.show()"
   ]
  },
  {
   "cell_type": "markdown",
   "metadata": {},
   "source": [
    "The pair plot above has a lot of useful info, it helps me with my second AND third questions provided at the start of this notebook.\n",
    "\n",
    "In regards to the second question, its quite clear that square foot living space is the most influential factor of price between the 3 variable i chose to investigate here"
   ]
  }
 ],
 "metadata": {
  "kernelspec": {
   "display_name": "Python 3",
   "language": "python",
   "name": "python3"
  },
  "language_info": {
   "codemirror_mode": {
    "name": "ipython",
    "version": 3
   },
   "file_extension": ".py",
   "mimetype": "text/x-python",
   "name": "python",
   "nbconvert_exporter": "python",
   "pygments_lexer": "ipython3",
   "version": "3.8.5"
  }
 },
 "nbformat": 4,
 "nbformat_minor": 2
}
